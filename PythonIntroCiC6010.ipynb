{
 "cells": [
  {
   "cell_type": "markdown",
   "metadata": {},
   "source": [
    "# Introduction to programming using Python - CIC6010 <a class=\"tocSkip\">\n",
    "Notes from a short course at University of Sheffield on some basic Python functionality<br/>\n",
    "Resources available at [http://rcg.group.shef.ac.uk/courses/cic6010/](http://rcg.group.shef.ac.uk/courses/cic6010/)"
   ]
  },
  {
   "cell_type": "markdown",
   "metadata": {},
   "source": [
    "## The Basics: Using Python as a calculator\n",
    "Strings can be enclosed in either single or double quotation marks, but not mixed in a single string.<br/>\n",
    "Lists are enclosed in square brackets, can be accessed by index, slicing, and iterated over.<br/>\n",
    "Use the hash character `#` to add comments on your code without executing that line containing the `#`.<br/>\n",
    "Introduction to the print function, variables, types."
   ]
  },
  {
   "cell_type": "code",
   "execution_count": null,
   "metadata": {},
   "outputs": [],
   "source": [
    "# Note: Newlines in strings using `\"\\n\"`\n",
    "print('Hello World!\\nHow are You?\\nFine.')\n",
    "# Lists with square brackets, here a list of strings\n",
    "l = ['Hello World!', 'How are You?', 'Fine.']\n",
    "# 'For loop', will produce the same result as above, as each new print is dispalyed on a new line.\n",
    "for s in l:\n",
    "    print(s)"
   ]
  },
  {
   "cell_type": "code",
   "execution_count": null,
   "metadata": {},
   "outputs": [],
   "source": [
    "# Multiple variable assignment at once\n",
    "a, b = 12, 3\n",
    "# Note: Division results in a float rather than an integer (even if the result is a whole number)\n",
    "print(a+b, a-b, a*b, a/b)\n",
    "print('a is of type', type(a))\n",
    "print('a/b is of type', type(a/b))"
   ]
  },
  {
   "cell_type": "markdown",
   "metadata": {},
   "source": [
    "## Interacting with the user using the `input()` function\n",
    "When run, the function `input(prompt)` will print the prompt message string and prompt the user for input.<br/>\n",
    "User input can be stored in variables for later use.\n",
    "The output of `input()` is always a string, so type conversion may be necessary.<br/>"
   ]
  },
  {
   "cell_type": "code",
   "execution_count": null,
   "metadata": {},
   "outputs": [],
   "source": [
    "# Variables from keyboard\n",
    "x = input('Type something here: ')\n",
    "\n",
    "# Display the input\n",
    "print(x)"
   ]
  },
  {
   "cell_type": "code",
   "execution_count": null,
   "metadata": {},
   "outputs": [],
   "source": [
    "a, b = input('a = '), input('b = ')\n",
    "# Type conversion from string to float\n",
    "a, b = float(a), float(b)\n",
    "# Positional string formatting, starts from 0\n",
    "print('a + b = {0}, a - b = {1}, a * b = {2}, a / b = {3}'.format(a+b, a-b, a*b, a/b))\n",
    "print('a is of type', type(a))\n",
    "print('a/b is of type', type(a/b))"
   ]
  },
  {
   "cell_type": "markdown",
   "metadata": {},
   "source": [
    "## Functions\n",
    "Some practice exercises creating functions, writing docstrings, using conditional statements, Booleans. Making the distinction between local variables, defined and used within functions, with global variables, which persist outside of the call of the function."
   ]
  },
  {
   "cell_type": "markdown",
   "metadata": {},
   "source": [
    "The mean $\\bar{x}$ of a list of numbers $x_1, x_2, \\ldots, x_n$ is given by\n",
    "\\begin{equation}\n",
    "  \\bar{x} := \\frac{1}{n} \\sum_{i=0}^{n} x_i\n",
    "\\end{equation}\n",
    "The variance $\\mathrm{Var}(x)$ of a list of numbers $x_1, x_2, \\ldots, x_n$ is given by\n",
    "\\begin{equation}\n",
    "  \\mathrm{Var}(x) := \\frac{1}{n} \\sum_{i=0}^{n} (x_i - \\bar{x})^2 = \\overline{(x - \\bar{x})^2}\n",
    "\\end{equation}\n",
    "It can also be shown that \n",
    "\\begin{equation}\n",
    "  \\mathrm{Var}(x) = \\frac{1}{n} \\sum_{i=0}^{n} x_i - (\\frac{1}{n} \\sum_{i=0}^{n} x_i)^2 = \\overline{x^2} - \\bar{x}^2\n",
    "\\end{equation}\n",
    " \n",
    "Note: See Wikipedia's [Algorithms for calculating variance](https://en.wikipedia.org/wiki/Algorithms_for_calculating_variance) for an explanation why altvar is less stable than var, and even better methods are available.<br/>\n",
    "In practice we will use builtin functions from numpy. In short, squared differences are sometimes too extreme to calculate accurately."
   ]
  },
  {
   "cell_type": "code",
   "execution_count": null,
   "metadata": {},
   "outputs": [],
   "source": [
    "from IPython.display import IFrame\n",
    "IFrame('https://en.wikipedia.org/wiki/Algorithms_for_calculating_variance', width=800, height=450)"
   ]
  },
  {
   "cell_type": "code",
   "execution_count": null,
   "metadata": {},
   "outputs": [],
   "source": [
    "def mean(l):\n",
    "    return sum(l)/len(l)\n",
    "\n",
    "def var(l):\n",
    "    return mean([x*x for x in l]) - mean(l)*mean(l)\n",
    "\n",
    "def altvar(l):\n",
    "    r\"\"\"Calculates variance from basic definition\"\"\"\n",
    "    return mean([(x - mean(l))**2 for x in l])\n",
    "\n",
    "l = [3, 7, 32, 54, 12, 34]\n",
    "print(var(l) - altvar(l))\n",
    "\n",
    "print('mean = {}, variance = {}, sd = {}'.format(mean(l), var(l), var(l)**(1/2)))"
   ]
  },
  {
   "cell_type": "markdown",
   "metadata": {},
   "source": [
    "Convert measurements in miles to kilometers and back.\n",
    "1 mile = 1.60934 km, 1 km = 0.621371"
   ]
  },
  {
   "cell_type": "code",
   "execution_count": null,
   "metadata": {},
   "outputs": [],
   "source": [
    "def milestokm(x):\n",
    "    return 1.60934*x\n",
    "\n",
    "def kmtomiles(x):\n",
    "    return x/1.60934\n",
    "\n",
    "smiles = 'Distance in miles: '\n",
    "skm = 'Distance in kilometers: '\n",
    "\n",
    "def runmilestokm():\n",
    "    print('Converting distance in miles to kilometers:')\n",
    "    x = float(input(smiles))\n",
    "    print(skm + str(milestokm(x)))\n",
    "    return None\n",
    "\n",
    "def runkmtomiles():\n",
    "    print('Converting distance in kilometers to miles:')\n",
    "    x = float(input(skm))\n",
    "    print(smiles + str(kmtomiles(x)))\n",
    "    return None\n",
    "\n",
    "runmilestokm()\n",
    "runkmtomiles()"
   ]
  },
  {
   "cell_type": "markdown",
   "metadata": {},
   "source": [
    "### Exercises: Using conditional statements"
   ]
  },
  {
   "cell_type": "code",
   "execution_count": null,
   "metadata": {},
   "outputs": [],
   "source": [
    "def isEuclideantriangle():\n",
    "    r'''Receives three angles as inputs and checks whether they can form a\n",
    "    Euclidean triangle, returning a Boolean whilst also checking for degeneracy'''\n",
    "    a,b,c = input('angle a = '), input('angle b = '), input('angle c = ')\n",
    "    a,b,c = float(a),float(b),float(c)\n",
    "    if a < 0 or b < 0 or c < 0:\n",
    "        print('Angles must be positive!')\n",
    "        return False\n",
    "    elif a + b + c != 180:\n",
    "        print('Not a (Euclidean) triangle as angles do not sum to 180 degrees')\n",
    "        return False\n",
    "    elif a*b*c == 0:\n",
    "        print('This is a degenerate triangle (at least one angle is zero)')\n",
    "        return True\n",
    "    else:\n",
    "        return True\n",
    "\n",
    "isEuclideantriangle()"
   ]
  },
  {
   "cell_type": "code",
   "execution_count": null,
   "metadata": {},
   "outputs": [],
   "source": [
    "def stringrepeater():\n",
    "    s = input('What is your message? ')\n",
    "    n = int(input('How many times would you like to repeat this message? '))\n",
    "    if n > 10:\n",
    "        print(\"Ain't nobody got time for that!\")\n",
    "        return None\n",
    "    else:\n",
    "        for i in range(n):\n",
    "            print(s)\n",
    "        return None\n",
    "\n",
    "# Example message: 'Look around you!', repeat 10 times\n",
    "stringrepeater()"
   ]
  },
  {
   "cell_type": "code",
   "execution_count": null,
   "metadata": {},
   "outputs": [],
   "source": [
    "def interactivemean():\n",
    "    r'''Calculates the mean of a list of user input numbers, where the user must\n",
    "    first specify the how many numbers are to be averaged'''    \n",
    "    n = int(input('How many numbers would you like to average? '))\n",
    "    if n > 16:\n",
    "        print('That\\'s too many numbers!')\n",
    "        return None\n",
    "    else:\n",
    "        total = 0\n",
    "        for i in range(n):\n",
    "            total = total + float(input('x_{} = '.format(i+1)))\n",
    "        return total/n\n",
    "\n",
    "interactivemean()"
   ]
  },
  {
   "cell_type": "code",
   "execution_count": null,
   "metadata": {},
   "outputs": [],
   "source": [
    "def howoldareyou():\n",
    "    r'''Asks the user their age and tells them if they are old enough to vote\n",
    "    and their years to the age of 65 (assumed retirement age)'''        \n",
    "    n = float(input('How old are you (years)? '))\n",
    "    if n < 0:\n",
    "        print('Ages aren\\'t usually negative.')\n",
    "        return False\n",
    "    elif n >= 18:\n",
    "        print('You are old enough to vote in the UK')\n",
    "    else:\n",
    "        print('You are not old enough to vote in the UK (and many other places)')\n",
    "    print('You are {} years from retirement (assumed to retire at 65)'.format(65-n))\n",
    "    return None\n",
    "\n",
    "howoldareyou()"
   ]
  },
  {
   "cell_type": "code",
   "execution_count": null,
   "metadata": {},
   "outputs": [],
   "source": [
    "##### How many programmers does it take to change a lightbulb?\n",
    "def lampnotworking():\n",
    "    print('Broken lamp, huh?')\n",
    "    positive = ['yes', 'true', '1']\n",
    "    negative = ['no', 'false', '0']\n",
    "    response1 = input('Lamp plugged in? ').strip().lower()\n",
    "    if response1 in negative:\n",
    "        print('Plug in lamp')\n",
    "        return None\n",
    "    elif response1 in positive:\n",
    "        response2 = input('Bulb burned out? ').strip().lower()\n",
    "        if response2 in positive:\n",
    "            print('Replace bulb')\n",
    "            return None\n",
    "        elif response2 in negative:\n",
    "            print('Repair lamp')\n",
    "            return None\n",
    "        else:\n",
    "            print('Sorry, I didn\\'t understand your response')\n",
    "            return None\n",
    "    else:\n",
    "        print('Sorry, I didn\\'t understand your response')\n",
    "        return None\n",
    "\n",
    "lampnotworking()"
   ]
  },
  {
   "cell_type": "markdown",
   "metadata": {},
   "source": [
    "### The `range()` function\n",
    "Using the range function and list comprehensions.<br/>\n",
    "For information about the `yield` keyword, iterables, generators, and the `itertools` module, check out the StackOverflow question and answer [here](https://stackoverflow.com/questions/231767/what-does-the-yield-keyword-do).\n",
    "Lists and generators can both be used for iteration (e.g. for loops). Generators can only be used once, but may save on memory usage. The `yield` keyword is comparable to the `return` keyword in typical function definition, but is commonly used for creating generators/iterators."
   ]
  },
  {
   "cell_type": "code",
   "execution_count": null,
   "metadata": {},
   "outputs": [],
   "source": [
    "# Note that to print the (even) numbers between 4 and 20 inclusive\n",
    "# we need to stop counting at 21\n",
    "print(str(list(range(4, 21))), '\\n', str(list(range(4, 21, 2))))"
   ]
  },
  {
   "cell_type": "code",
   "execution_count": null,
   "metadata": {},
   "outputs": [],
   "source": [
    "def mysequence():\n",
    "    r'''Prints the sequence x_n = n^2 + 1 for n = 0,1,2,...,N for user defined N.''' \n",
    "    N = int(input('How many terms in the sequence n^2 + 1 to print? '))\n",
    "    if N > 0:\n",
    "        print([n*n + 1 for n in range(N)])\n",
    "        return None\n",
    "    return None\n",
    "\n",
    "mysequence()"
   ]
  },
  {
   "cell_type": "markdown",
   "metadata": {},
   "source": [
    "### More exercises"
   ]
  },
  {
   "cell_type": "code",
   "execution_count": null,
   "metadata": {},
   "outputs": [],
   "source": [
    "def maxthree():\n",
    "    r'''Displays the largest of three user input numbers''' \n",
    "    a, b, c = input('a = '), input('b = '), input('c = ')\n",
    "    a, b, c = float(a), float(b), float(c)\n",
    "    return max(a, b, c)\n",
    "\n",
    "maxthree()"
   ]
  },
  {
   "cell_type": "code",
   "execution_count": null,
   "metadata": {},
   "outputs": [],
   "source": [
    "def shut_down(s):\n",
    "    s = s.strip().lower()\n",
    "    if s == \"yes\":\n",
    "        return 'Shutting down'\n",
    "    elif s == 'no':\n",
    "        return 'Shutdown aborted'\n",
    "    else:\n",
    "        return 'Unknown parameter'\n",
    "\n",
    "print(shut_down(input('Shut down the system? ')))"
   ]
  },
  {
   "cell_type": "code",
   "execution_count": null,
   "metadata": {},
   "outputs": [],
   "source": [
    "def dist_from_zero(x):\n",
    "    r'''Calculates the absolute value of the input variable''' \n",
    "    if type(x) == int or type(x) == float:\n",
    "        return abs(x)\n",
    "    else:\n",
    "        return('Error')\n",
    "\n",
    "l = [-5, -5.6, '-5.6']\n",
    "print('x | type(x) | f(x)')\n",
    "for x in l:\n",
    "    print('{} | {} | {}'.format(x, type(x), dist_from_zero(x)))\n",
    "\n",
    "# Note: The following will throw an error because inputs are always received as strings\n",
    "x = input('Please provide an input: ')\n",
    "print('The absolute value of {} is {}'.format(x, dist_from_zero(x)))\n",
    "# We can resolve this by a type conversion as follows:\n",
    "print('The absolute value of {} is {}'.format(x, dist_from_zero(float(x))))"
   ]
  },
  {
   "cell_type": "markdown",
   "metadata": {},
   "source": [
    "## Modules\n",
    "Saving your code and functions in .py files allows them to be reused elsewhere. These can be imported/accessed through the directory structure as `import folder.file.function as custom_function_name`. This course doesn't deal with classes/object oriented approaches. Third party modules are modules that other people have written to solve all of your problems."
   ]
  },
  {
   "cell_type": "markdown",
   "metadata": {},
   "source": [
    "![alt text](https://imgs.xkcd.com/comics/python.png \"Python, 2007-12-5\")\n",
    "Source: https://xkcd.com/353/"
   ]
  },
  {
   "cell_type": "code",
   "execution_count": null,
   "metadata": {},
   "outputs": [],
   "source": [
    "import random\n",
    "\n",
    "def guessmynumber():\n",
    "    r'''Asks the user to guess a randomly generated integer between 1 and 9,\n",
    "    telling the user if their guess is too high, too low, or exactly right.\n",
    "    Users have a maximum of three guesses.''' \n",
    "    x = random.randint(1, 9)\n",
    "    print(\"Guess the randomly generated integer between 1 and 9 inclusive.\\nYou have three guesses.\")\n",
    "    for i in range(3):\n",
    "        guess = int(input(\"Guess {}: \".format(i+1)))\n",
    "        if guess == x:\n",
    "            print('Exactly right! Well done!')\n",
    "            return None\n",
    "        elif guess > x:\n",
    "            print('Too high!')\n",
    "        elif guess < x:\n",
    "            print('Too low!')\n",
    "    print('You lose')\n",
    "    return None\n",
    "\n",
    "guessmynumber()"
   ]
  },
  {
   "cell_type": "markdown",
   "metadata": {},
   "source": [
    "### Introducing the `numpy` module"
   ]
  },
  {
   "cell_type": "markdown",
   "metadata": {},
   "source": [
    "Below we handcraft a function to solve polynomial equations of degree at most 2."
   ]
  },
  {
   "cell_type": "code",
   "execution_count": null,
   "metadata": {},
   "outputs": [],
   "source": [
    "def quadraticsolver(a, b, c):\n",
    "    r'''Solves the real quadratic equation ax^2 + bx + c = 0 from inputs a,b,c.''' \n",
    "    if a == 0:\n",
    "        print('This isn\\'t a quadratic equation. We cannot have a = 0')\n",
    "        if b != 0:\n",
    "            print(\n",
    "                'The solution to the linear equation {}x + {} = 0 is x = {}'.format(b, c, -c/b))\n",
    "            return -c/b\n",
    "        elif c == 0:\n",
    "            print('The trivial equation 0 = 0 is true for all x')\n",
    "            return True\n",
    "        else:\n",
    "            print('The equation {} = 0 has no solutions for any x'.format(c))\n",
    "            return None\n",
    "    disc = b * b - 4 * a * c\n",
    "    if disc == 0:\n",
    "        print('Repeated root')\n",
    "        return -b/(2*a)\n",
    "    elif disc > 0:\n",
    "        print('Distinct real roots')\n",
    "    elif disc < 0:\n",
    "        print('Complex conjugate roots')\n",
    "    return (-b + disc**(1/2))/(2*a), (-b - disc**(1/2))/(2*a)"
   ]
  },
  {
   "cell_type": "markdown",
   "metadata": {},
   "source": [
    "We can compare our function output with numpy, which solves the problem faster and in fewer lines of code, and works for polynomials of higher degrees."
   ]
  },
  {
   "cell_type": "code",
   "execution_count": null,
   "metadata": {},
   "outputs": [],
   "source": [
    "import numpy as np\n",
    "print(quadraticsolver(1, 9, 6))\n",
    "print(np.roots([1, 9, 6]))"
   ]
  },
  {
   "cell_type": "markdown",
   "metadata": {},
   "source": [
    "Above we exhibit some common basic usage of the `numpy` module to compute some statistical features in an optimized manner. `numpy` is probably most famous for its arrays, which can be used to implement vectors and matrices, and allows the user to perform many computations which may arise in a typical high school/college A level course in mathematics (though not much differentiation and integration; instead check out the [documentation](http://docs.sympy.org/latest/index.html) for `sympy`). See the documentation for `numpy` [here](http://docs.scipy.org/doc/numpy/index.html)."
   ]
  },
  {
   "cell_type": "code",
   "execution_count": null,
   "metadata": {},
   "outputs": [],
   "source": [
    "import numpy as np\n",
    "a = [4, 6, 2, 3, 4, 6, 8, 9, 3, 4, 5, 6, 7]\n",
    "print(np.mean(a))\n",
    "print(np.var(a))\n",
    "print(np.std(a))"
   ]
  },
  {
   "cell_type": "markdown",
   "metadata": {},
   "source": [
    "### Jupyter magics `%timeit`\n",
    "Below is an exercise where we create a function to find the maximum value in a list and its index. If the maximum value appears more than once in the list, the first instance (and its index) is returned. We implement a solution in three different ways and compare how fast each one is."
   ]
  },
  {
   "cell_type": "code",
   "execution_count": null,
   "metadata": {},
   "outputs": [],
   "source": [
    "# l = [4,6,2,4,8,12,7]\n",
    "import numpy as np\n",
    "l = [random.random() for _ in range(1000000)]\n",
    "\n",
    "def naivemax(l):\n",
    "    val_max, idx_max = l[0], 0\n",
    "    for idx, val in enumerate(l):\n",
    "        if val > val_max:\n",
    "            idx_max, val_max = idx, val\n",
    "    return val_max, idx_max\n",
    "\n",
    "def pythonicmax(l):\n",
    "    val_max = max(l)\n",
    "    idx_max = l.index(val_max)\n",
    "    return val_max, idx_max\n",
    "\n",
    "# Optimized for larger and more complicated objects, but has numpy dependency and may use more memory\n",
    "def numpy_min_and_index(values):\n",
    "    return np.min(values), np.argmin(values)"
   ]
  },
  {
   "cell_type": "code",
   "execution_count": null,
   "metadata": {},
   "outputs": [],
   "source": [
    "# Slowest\n",
    "%timeit naivemax(l)"
   ]
  },
  {
   "cell_type": "code",
   "execution_count": null,
   "metadata": {},
   "outputs": [],
   "source": [
    "# Fastest for lists\n",
    "%timeit pythonicmax(l)"
   ]
  },
  {
   "cell_type": "code",
   "execution_count": null,
   "metadata": {},
   "outputs": [],
   "source": [
    "# A bit better than naive as lists get longer\n",
    "%timeit numpy_min_and_index(l)"
   ]
  },
  {
   "cell_type": "code",
   "execution_count": null,
   "metadata": {},
   "outputs": [],
   "source": [
    "def sum_of_reciprocals(N):\n",
    "    if type(N) == int and N > 0:\n",
    "        return sum([1/(i+1) for i in range(N)])\n",
    "    else:\n",
    "        print(\"Invalid input\")\n",
    "        return None\n",
    "\n",
    "sum_of_reciprocals(2)"
   ]
  },
  {
   "cell_type": "markdown",
   "metadata": {},
   "source": [
    "## Working with files\n",
    "Using the `os` library makes source code which deals with files more portable.\n",
    "Working with files allows us to develop our understanding of the string methods in Python."
   ]
  },
  {
   "cell_type": "markdown",
   "metadata": {},
   "source": [
    "Exercise: Read the following file: `wrong.txt` in the data directory.<br/>\n",
    "The file contains two columns of numbers. For some reason the format is damaged: some rows have missing numbers or random nonnumeric characters. Write a script which is able to read the data whilst ignoring the corrupted lines."
   ]
  },
  {
   "cell_type": "code",
   "execution_count": null,
   "metadata": {},
   "outputs": [],
   "source": [
    "# Open the file in 'r' read-only mode. i.e. no (over)writing\n",
    "file = open('data/wrong.txt', 'r')\n",
    "l_col, r_col = [], []\n",
    "for line in file:\n",
    "    line = line.rstrip('\\n').split(' ')\n",
    "    print(line)\n",
    "    if len(line) == 2 and line[0].isnumeric() and line[1].isnumeric():\n",
    "        l_col.append(line[0])\n",
    "        r_col.append(line[1])\n",
    "file.close()\n",
    "print('Results:\\n', l_col, '\\n', r_col)"
   ]
  },
  {
   "cell_type": "markdown",
   "metadata": {},
   "source": [
    "### Practice session 6\n",
    "Given initial position and velocity for two asteroids moving at constant velocity in a plane, plot their position over a period of 50 time units in intervals of 1 time unit."
   ]
  },
  {
   "cell_type": "code",
   "execution_count": null,
   "metadata": {},
   "outputs": [],
   "source": [
    "import pandas as pd\n",
    "import numpy as np\n",
    "\n",
    "# Open and read the file\n",
    "file = open('data/asteroid.txt', 'r')\n",
    "data = []\n",
    "for line in file:\n",
    "    line = line.rstrip('\\n').split(' ')\n",
    "    if len(line) == 2:\n",
    "        data.append([float(x) for x in line])\n",
    "file.close()\n",
    "\n",
    "# Calculate the position of the two asteroids given their initial positions and velocities \n",
    "# using the equation x_t = x_0 + t * v_0 in two dimensions\n",
    "ast1_pos = [(data[0][0] + t * data[1][0], data[0][1] + t * data[1][1])\n",
    "            for t in range(0, 51)]\n",
    "ast2_pos = [(data[2][0] + t * data[3][0], data[2][1] + t * data[3][1])\n",
    "            for t in range(0, 51)]\n",
    "\n",
    "# Calculate the distance between the two asteroids given their positions at a given time\n",
    "def distance(pos1, pos2):\n",
    "    x1, y1, x2, y2 = pos1[0], pos1[1], pos2[0], pos2[1]\n",
    "    return np.sqrt(((x1 - x2)*(x1 - x2)) + ((y1 - y2)*(y1 - y2)))\n",
    "\n",
    "\n",
    "dist = [distance(ast1_pos[t], ast2_pos[t]) for t in range(0, 51)]\n",
    "\n",
    "results = pd.DataFrame({'Ast1_Pos': ast1_pos, 'Ast2_Pos': ast2_pos,\n",
    "                        'Distance': dist})\n",
    "results"
   ]
  },
  {
   "cell_type": "markdown",
   "metadata": {},
   "source": [
    "### Matplotlib: A numerical plotting library"
   ]
  },
  {
   "cell_type": "markdown",
   "metadata": {},
   "source": [
    "Exercise: \n",
    "- Read the hist.txt file and create a histogram.\n",
    "- Calculate the mean and the standard deviation of the data. \n",
    "- Set the threshold to 2 sigmas and delete the data above the threshold. (i.e. `th = np.mean(data) + 2 * np.std(data)`) \n",
    "- Plot a histogram of the filtered data."
   ]
  },
  {
   "cell_type": "code",
   "execution_count": null,
   "metadata": {},
   "outputs": [],
   "source": [
    "import matplotlib.pyplot as plt\n",
    "import numpy as np\n",
    "\n",
    "file = open('data/hist.txt', 'r')\n",
    "data = [float(line.rstrip('\\n')) for line in file]\n",
    "file.close()\n",
    "\n",
    "plt.hist(data, 50, density=1, facecolor='green')\n",
    "plt.show()\n",
    "\n",
    "data_mean, data_std = np.mean(data), np.std(data)\n",
    "print(\"Mean = {}, Standard deviation = {}\".format(data_mean, data_std))\n",
    "threshold = data_mean + 2 * data_std\n",
    "\n",
    "filtered = [x for x in data if x < threshold]\n",
    "plt.hist(filtered, 50, density=1, facecolor='green')\n",
    "plt.show()"
   ]
  },
  {
   "cell_type": "markdown",
   "metadata": {},
   "source": [
    "### Practice Session 7\n",
    "- Plot a graph of the function $f(x) = x^2 + 20$, for integer values of x in the range 0-100. We can build the lists of x and y values with a for loop. Build the list of y values by starting with an empty list and appending values to it.\n",
    "- Having created the lists of x and y values, plot the graph.\n",
    "- Generate noise with the random module. The function is $f(x) = x^2 + 20 + R$, where R is the noise term, an integer between 0 and 1000. Plot the graph.\n",
    "- The noise represents the observational error of the investigated system. Try to restore the noiseless system by applying a polynomial fit. Try to change the degree of the polynomial fit. Find the best fit."
   ]
  },
  {
   "cell_type": "code",
   "execution_count": null,
   "metadata": {},
   "outputs": [],
   "source": [
    "import matplotlib.pyplot as plt\n",
    "import numpy as np\n",
    "from random import randint\n",
    "\n",
    "# True function y = x^2 + 20\n",
    "x = range(0, 100)\n",
    "y = [val*val + 20 for val in x]\n",
    "\n",
    "# Add random integer noise between 0 and 1000 for each x value\n",
    "noisy = [val + randint(0, 1000) for val in y]\n",
    "\n",
    "# Linear approximation to the noisy data, minimises mean squared error\n",
    "# z1 = np.polyfit(x, noisy, 1)\n",
    "# fit1 = np.poly1d(z1)\n",
    "\n",
    "# Fit the noisy data to a quadratic - should approximate y = x^2 + 520\n",
    "# z2 = np.polyfit(x, noisy, 2)\n",
    "# fit2 = np.poly1d(z2)\n",
    "\n",
    "# Polynomial fit for degrees 0 to 9\n",
    "fit = [np.poly1d(np.polyfit(x, noisy, i)) for i in range(10)]\n",
    "\n",
    "# Plot the base function and the data with noise added\n",
    "plt.plot(x, y, 'b-', x, noisy, 'yo')\n",
    "# Plot the polynomial approximations - Beware overfitting\n",
    "for i in range(len(fit)):\n",
    "    plt.plot(x, fit[i](x))\n",
    "\n",
    "plt.show()"
   ]
  },
  {
   "cell_type": "markdown",
   "metadata": {},
   "source": [
    "### Practice Session 8\n",
    "Your supervisor is interested in solar physics and asks you to create a fancy chart about the variation of the sunspot numbers between the years 1987 and 2014, recommending the website: http://www.sidc.be/silso/datafiles. For more information on sunspots see: https://en.wikipedia.org/wiki/Sunspot <br/>\n",
    "Use the CSV (Comma Separated Values) data file named `SN_d_tot_V2.0.csv`. The separator is actually the semicolon (not the comma). Column 4 is the date in fraction of year. Column 5 is the daily total sunspot number. A value of -1 indicates that no number is available for that day (missing value). Ignore the other columns and the missing values."
   ]
  },
  {
   "cell_type": "code",
   "execution_count": null,
   "metadata": {},
   "outputs": [],
   "source": [
    "# We will be using pandas to read the .csv file, a method which is quicker and easier\n",
    "import pandas as pd\n",
    "import numpy as np\n",
    "%matplotlib inline\n",
    "\n",
    "# Raw column names: ['Year', 'Month', 'Day', 'Date', 'sunspots_est', 'std_est', 'stations_calculated', 'stations_available']\n",
    "# Use pandas to read the .csv file with semicolon as separator, and selecting the columns of interest only\n",
    "data = pd.read_csv('data/SN_d_tot_V2.0.csv', sep=';', header=None, usecols=[3, 4])\n",
    "\n",
    "# (Re)name the columns\n",
    "data.columns = ['Date', 'Sunspots']\n",
    "\n",
    "# Select the data in the desired time range, and drop missing values\n",
    "data = data.loc[(data['Date'] > 1987) & (data['Date'] < 2015) & (data['Sunspots'] != -1)]\n",
    "\n",
    "# Fit the data using a polynomial of degree 20. \n",
    "# Note that fitting polynomials to this data for prediction is highly unsuitable, leading to overfitting and\n",
    "# not extrapolating/generalising outside the time range, since sunspot numbers are cyclic in time, whereas polynomials\n",
    "# are asymptotically unbounded. Approximating by periodic functions (e.g. sine; Fourier series) would be more appropriate.\n",
    "fit = np.poly1d(np.polyfit(data['Date'], data['Sunspots'], 20))\n",
    "\n",
    "# Plot the data using the pandas wrapper over matplotlib along with the fitted polynomial\n",
    "ax1 = data.plot(x='Date', y='Sunspots', title='Sunspot numbers between 1987 and 2015', style={'Sunspots': 'b-'})\n",
    "ax1.plot(data['Date'], fit(data['Date']), 'r--')"
   ]
  },
  {
   "cell_type": "markdown",
   "metadata": {},
   "source": [
    "Here we produce an identical plot using matplotlib's pyplot interface"
   ]
  },
  {
   "cell_type": "code",
   "execution_count": null,
   "metadata": {},
   "outputs": [],
   "source": [
    "import matplotlib.pyplot as plt\n",
    "\n",
    "plt.plot(data['Date'], data['Sunspots'], 'b-')\n",
    "plt.plot(data['Date'], fit(data['Date']), 'r--')\n",
    "plt.title('Sunspot numbers between 1987 and 2015')\n",
    "plt.legend()\n",
    "\n",
    "plt.show()"
   ]
  },
  {
   "cell_type": "code",
   "execution_count": null,
   "metadata": {},
   "outputs": [],
   "source": []
  },
  {
   "cell_type": "markdown",
   "metadata": {},
   "source": []
  }
 ],
 "metadata": {
  "kernelspec": {
   "display_name": "Python 3",
   "language": "python",
   "name": "python3"
  },
  "language_info": {
   "codemirror_mode": {
    "name": "ipython",
    "version": 3
   },
   "file_extension": ".py",
   "mimetype": "text/x-python",
   "name": "python",
   "nbconvert_exporter": "python",
   "pygments_lexer": "ipython3",
   "version": "3.6.7"
  },
  "toc": {
   "base_numbering": 1,
   "nav_menu": {},
   "number_sections": true,
   "sideBar": true,
   "skip_h1_title": false,
   "title_cell": "Table of Contents",
   "title_sidebar": "Contents",
   "toc_cell": false,
   "toc_position": {},
   "toc_section_display": true,
   "toc_window_display": false
  },
  "varInspector": {
   "cols": {
    "lenName": 16,
    "lenType": 16,
    "lenVar": 40
   },
   "kernels_config": {
    "python": {
     "delete_cmd_postfix": "",
     "delete_cmd_prefix": "del ",
     "library": "var_list.py",
     "varRefreshCmd": "print(var_dic_list())"
    },
    "r": {
     "delete_cmd_postfix": ") ",
     "delete_cmd_prefix": "rm(",
     "library": "var_list.r",
     "varRefreshCmd": "cat(var_dic_list()) "
    }
   },
   "types_to_exclude": [
    "module",
    "function",
    "builtin_function_or_method",
    "instance",
    "_Feature"
   ],
   "window_display": false
  }
 },
 "nbformat": 4,
 "nbformat_minor": 2
}
